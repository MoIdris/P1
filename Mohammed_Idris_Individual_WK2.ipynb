{
 "cells": [
  {
   "cell_type": "markdown",
   "id": "3bc57303-88a4-4a4e-9e83-f81cf3f8c905",
   "metadata": {
    "tags": []
   },
   "source": [
    "### In this project, you are going to simulate a sales and operation planning using the zero-stock level strategy. Write a python program that asks the user to enter the following data:\n",
    "### -\tAn initial stock level for a product\n",
    "### -\tThe number of month(s) to plan \n",
    "### -\tThe planned sales quantity for each month\n",
    "### Based on this data, calculate the required production quantity as follows:\n",
    "### -\tIf the sales quantity is smaller than the stock level of the previous month, the production quantity is 0\n",
    "### -\tIf the sales quantity is larger than the stock level of the previous month, the production quantity is this difference\n",
    "### Below is an example execution of the program:\n",
    "### >>> Please enter an initial stock level: 500\n",
    "### >>> Please enter the number of months to plan: 5  \n",
    "### >>> Please enter the planned sales quantity for month 1: 300\n",
    "### >>> Please enter the planned sales quantity for month 2: 250\n",
    "### >>> Please enter the planned sales quantity for month 3: 200\n",
    "### >>> Please enter the planned sales quantity for month 4: 400\n",
    "### >>> Please enter the planned sales quantity for month 5: 100\n",
    "\n"
   ]
  },
  {
   "cell_type": "code",
   "execution_count": 3,
   "id": "6baee373-d5bf-481a-aa1b-6fdb41684d64",
   "metadata": {
    "tags": []
   },
   "outputs": [
    {
     "name": "stdin",
     "output_type": "stream",
     "text": [
      "Please enter an initial stock level:  500\n",
      "Please enter the number of months to plan:  5\n",
      "Please enter the planned sales quantity for month 1:  300\n"
     ]
    },
    {
     "name": "stdout",
     "output_type": "stream",
     "text": [
      "The production quantity for month 1 is: 0\n"
     ]
    },
    {
     "name": "stdin",
     "output_type": "stream",
     "text": [
      "Please enter the planned sales quantity for month 2:  250\n"
     ]
    },
    {
     "name": "stdout",
     "output_type": "stream",
     "text": [
      "The production quantity for month 2 is: 50\n"
     ]
    },
    {
     "name": "stdin",
     "output_type": "stream",
     "text": [
      "Please enter the planned sales quantity for month 3:  200\n"
     ]
    },
    {
     "name": "stdout",
     "output_type": "stream",
     "text": [
      "The production quantity for month 3 is: 200\n"
     ]
    },
    {
     "name": "stdin",
     "output_type": "stream",
     "text": [
      "Please enter the planned sales quantity for month 4:  400\n"
     ]
    },
    {
     "name": "stdout",
     "output_type": "stream",
     "text": [
      "The production quantity for month 4 is: 400\n"
     ]
    },
    {
     "name": "stdin",
     "output_type": "stream",
     "text": [
      "Please enter the planned sales quantity for month 5:  100\n"
     ]
    },
    {
     "name": "stdout",
     "output_type": "stream",
     "text": [
      "The production quantity for month 5 is: 100\n"
     ]
    }
   ],
   "source": [
    "# Asking the user for initial stock level\n",
    "initial_stock = int(input(\"Please enter an initial stock level: \"))\n",
    "\n",
    "# Asking the user for the number of months to plan\n",
    "months = int(input(\"Please enter the number of months to plan: \"))\n",
    "\n",
    "# Representing the stock level with the initial stock\n",
    "stock_level = initial_stock\n",
    "\n",
    "# Looping over each month\n",
    "for month in range(1, months + 1):\n",
    "    \n",
    "    # Asking the user for the planned sales quantity for the current month\n",
    "    sales_quantity = int(input(f\"Please enter the planned sales quantity for month {month}: \"))\n",
    "\n",
    "    # Calculating the production quantity\n",
    "    if sales_quantity < stock_level:\n",
    "        production_quantity = 0\n",
    "    else:\n",
    "        production_quantity = sales_quantity - stock_level\n",
    "\n",
    "    # The new stock level for the subsequent month\n",
    "    stock_level = stock_level - sales_quantity + production_quantity\n",
    "\n",
    "    # Print the production quantity for the current month\n",
    "    print(f\"The production quantity for month {month} is: {production_quantity}\")"
   ]
  }
 ],
 "metadata": {
  "kernelspec": {
   "display_name": "Python 3 (ipykernel)",
   "language": "python",
   "name": "python3"
  },
  "language_info": {
   "codemirror_mode": {
    "name": "ipython",
    "version": 3
   },
   "file_extension": ".py",
   "mimetype": "text/x-python",
   "name": "python",
   "nbconvert_exporter": "python",
   "pygments_lexer": "ipython3",
   "version": "3.11.5"
  }
 },
 "nbformat": 4,
 "nbformat_minor": 5
}
